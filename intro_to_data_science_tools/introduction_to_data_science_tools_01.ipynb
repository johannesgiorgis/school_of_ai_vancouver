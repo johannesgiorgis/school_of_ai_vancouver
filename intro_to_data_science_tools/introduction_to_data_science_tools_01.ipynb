{
 "cells": [
  {
   "cell_type": "markdown",
   "metadata": {},
   "source": [
    "# Introduction to Data Science Tools <a class=\"tocSkip\">\n",
    "_01: Conda & Jupyter Notebooks_"
   ]
  },
  {
   "cell_type": "markdown",
   "metadata": {
    "toc": true
   },
   "source": [
    "<h1>Table of Contents<span class=\"tocSkip\"></span></h1>\n",
    "<div class=\"toc\"><ul class=\"toc-item\"><li><span><a href=\"#Introduction-\" data-toc-modified-id=\"Introduction--1\">Introduction <a name=\"intro\"></a></a></span><ul class=\"toc-item\"><li><span><a href=\"#Conda\" data-toc-modified-id=\"Conda-1.1\">Conda</a></span></li><li><span><a href=\"#Jupyter-Notebook\" data-toc-modified-id=\"Jupyter-Notebook-1.2\">Jupyter Notebook</a></span></li></ul></li><li><span><a href=\"#Install-Conda-\" data-toc-modified-id=\"Install-Conda--2\">Install Conda <a name=\"install-conda\"></a></a></span><ul class=\"toc-item\"><li><span><a href=\"#Installing-on-Windows\" data-toc-modified-id=\"Installing-on-Windows-2.1\">Installing on Windows</a></span></li><li><span><a href=\"#Installing-on-macOS\" data-toc-modified-id=\"Installing-on-macOS-2.2\">Installing on macOS</a></span></li><li><span><a href=\"#Installing-on-Linux\" data-toc-modified-id=\"Installing-on-Linux-2.3\">Installing on Linux</a></span></li></ul></li><li><span><a href=\"#Create-a-Virtual-Environment-\" data-toc-modified-id=\"Create-a-Virtual-Environment--3\">Create a Virtual Environment <a name=\"create-env\"></a></a></span><ul class=\"toc-item\"><li><span><a href=\"#What-is-a-Virtual-Environment?-\" data-toc-modified-id=\"What-is-a-Virtual-Environment?--3.1\">What is a Virtual Environment? <a name=\"virtual-env\"></a></a></span></li><li><span><a href=\"#Create-School-of-AI-Environment-\" data-toc-modified-id=\"Create-School-of-AI-Environment--3.2\">Create School of AI Environment <a name=\"create-soai-env\"></a></a></span></li><li><span><a href=\"#Activate-Environment-\" data-toc-modified-id=\"Activate-Environment--3.3\">Activate Environment <a name=\"activate-env\"></a></a></span></li></ul></li><li><span><a href=\"#Install-Packages-\" data-toc-modified-id=\"Install-Packages--4\">Install Packages <a name=\"install-packages\"></a></a></span></li><li><span><a href=\"#Launch-Jupyter-Notebook-\" data-toc-modified-id=\"Launch-Jupyter-Notebook--5\">Launch Jupyter Notebook <a name=\"launch-jn\"></a></a></span></li><li><span><a href=\"#Jupyter-Notebook-Exercise-\" data-toc-modified-id=\"Jupyter-Notebook-Exercise--6\">Jupyter Notebook Exercise <a name=\"jn-exercise\"></a></a></span></li><li><span><a href=\"#Tips-&amp;-Tricks\" data-toc-modified-id=\"Tips-&amp;-Tricks-7\">Tips &amp; Tricks</a></span></li><li><span><a href=\"#Resources\" data-toc-modified-id=\"Resources-8\">Resources</a></span></li></ul></div>"
   ]
  },
  {
   "cell_type": "markdown",
   "metadata": {},
   "source": [
    "[NB Viewer](http://nbviewer.jupyter.org/github/johannesgiorgis/school_of_ai_vancouver/blob/master/intro_to_data_science_tools/introduction_to_data_science_tools_01.ipynb)"
   ]
  },
  {
   "cell_type": "markdown",
   "metadata": {},
   "source": [
    "## Introduction <a name=\"intro\"></a>\n",
    "\n",
    "Welcome to the School of AI's Introduction to Data Science Tools series. This series will serve as an introduction to the various Data Science tools and ecosystem that are at our disposal.\n",
    "\n",
    "Some examples are:\n",
    "    - conda\n",
    "    - jupyter notebooks\n",
    "    - numpy\n",
    "    - matplotlib\n",
    "    - pandas\n",
    "\n",
    "This initial workshop will focus on installing conda, setting up a virtual environment, installing jupyter notebooks and getting started with using Jupyter Notebooks. First, a brief introduction to the tools we will be learning about today:\n",
    "\n",
    "\n",
    "### Conda\n",
    "[Conda](https://conda.io/docs/) is an open source cross platform package management system and environment management system. Conda allow us to set up separate environments, called virtual environments and helps us manage the necessary packages we need within each environment.\n",
    "\n",
    "\n",
    "### Jupyter Notebook\n",
    "[Jupyter Notebook](http://jupyter.org/) is an open-source web application that allows you to create and share documents that contain live code, equations, visualizations and narrative text. It is extremely useful for Data Scientists as it allows them to write down their thoughts, documentation right next to the code and its output.  It is part of Project Jupyter."
   ]
  },
  {
   "cell_type": "markdown",
   "metadata": {},
   "source": [
    "## Install Conda <a name=\"install-conda\"></a>\n",
    "The first step is to install conda:\n",
    "\n",
    "1. Install [Conda](https://conda.io/docs/user-guide/install/index.html) Links:  \n",
    "    1.1. [Windows](https://conda.io/docs/user-guide/install/windows.html)  \n",
    "    1.2. [macOS](https://conda.io/docs/user-guide/install/macos.html)  \n",
    "    1.3. [Linux](https://conda.io/docs/user-guide/install/linux.html)  \n",
    "\n",
    "### Installing on Windows\n",
    "\n",
    "1. Download one installer:  \n",
    "    - [Miniconda installer for Windows.](https://conda.io/miniconda.html)  \n",
    "    - [Anaconda installer for Windows.](https://www.anaconda.com/download/)  \n",
    "    \n",
    "2. Double-click the ```.exe``` file.  \n",
    "\n",
    "3. Follow the instructions on the screen. \n",
    "    If you are unsure about any setting, accept the defaults. You can change them later.  \n",
    "    When installation is finished, from the Start menu, open the Anaconda Prompt.  \n",
    "\n",
    "4. Test your installation:  \n",
    "    Run the command ```conda list``` from the Terminal Window or Anaconda Prompt.\n",
    "    \n",
    "### Installing on macOS\n",
    "\n",
    "1. Download one installer:\n",
    "\n",
    "    - [Miniconda installer for macOS.](https://conda.io/miniconda.html)\n",
    "    - [Anaconda installer for macOS.](https://www.anaconda.com/download/)\n",
    "\n",
    "2. Install:\n",
    "\n",
    "    - Miniconda — In your Terminal window, run: ```bash Miniconda3-latest-MacOSX-x86_64.sh```\n",
    "    - Anaconda — Double-click the .pkg file.\n",
    "\n",
    "3. Follow the prompts on the installer screens.\n",
    "\n",
    "    If you are unsure about any setting, accept the defaults. You can change them later.\n",
    "\n",
    "4. To make the changes take effect, close and then re-open your Terminal window.\n",
    "\n",
    "5. Test your installation:  \n",
    "    Run the command ```conda list``` from the Terminal Window or Anaconda Prompt.\n",
    "    \n",
    "    \n",
    "### Installing on Linux\n",
    "\n",
    "1. Download one installer:\n",
    "\n",
    "    - [Miniconda installer for Linux.](https://conda.io/miniconda.html) \n",
    "    - [Anaconda installer for Linux.](https://www.anaconda.com/download/)  \n",
    "\n",
    "2. In your Terminal window, run:\n",
    "\n",
    "    - Miniconda: ```bash Miniconda3-latest-Linux-x86_64.sh```\n",
    "    \n",
    "    - Anaconda: ```bash Anaconda-latest-Linux-x86_64.sh```\n",
    "3. Follow the prompts on the installer screens.\n",
    "\n",
    "    If you are unsure about any setting, accept the defaults. You can change them later.\n",
    "\n",
    "4. To make the changes take effect, close and then re-open your Terminal window.\n",
    "\n",
    "5.  Test your installation:  \n",
    "    Run the command ```conda list``` from the Terminal Window or Anaconda Prompt.\n",
    "\n",
    "You should see a list of packages that are currently installed. Don't worry if you don't see anything - we haven't installed anything yet. But you can always use the ```conda list``` command to check the list of installed packages in your current environment. Below is a sample output of this command:\n",
    "\n",
    "![conda list output](../imgs/conda_list_output.jpg)\n",
    "\n",
    "Great! Now we are all set up with conda, let's move to the next step. "
   ]
  },
  {
   "cell_type": "markdown",
   "metadata": {},
   "source": [
    "## Create a Virtual Environment <a name=\"create-env\"></a>\n",
    "\n",
    "- [What is a Virtual Environment?](#virtual-env)\n",
    "- [Create School of AI Environment](#create-soai-env)\n",
    "- [Activate Environment](#activate-env)\n",
    "\n",
    "With conda installed and confirmed to be working on our systems, the next step is to create a virtual environment.\n",
    "\n",
    "### What is a Virtual Environment? <a name=\"virtual-env\"></a>\n",
    "Let's first understand what is a virtual environment and what use we may have for it. \n",
    "\n",
    "You want to work on multiple projects at the same time with each project requiring a different version of the same package. Let's take the example of one project that uses Python 2.x while another uses Python 3.x. You can have Python 2.x and Python 3.x installed along side each other in the same system and face no issues. Your projects could have some packages or modules that they both use. If one of your projects requires a shared package to be updated, this could break your other project.\n",
    "\n",
    "How do we avoid this clash between projects? How do we ensure each project gets the space it needs to have it own packages and modules without affecting another project? By using Virtual Environments!\n",
    "\n",
    "A virtual environment is essentially a container to host the packages required for a project or multiple projects.  \n",
    "\n",
    "### Create School of AI Environment <a name=\"create-soai-env\"></a>\n",
    "\n",
    "Let's create our environment. The below command is the template for creating environments. We specify a name for our environment. In addition, we can specify the packages we would want to install. \n",
    "\n",
    "```\n",
    "conda create --name <environment_name>\n",
    "conda create --name <environment_name> <packages we want to install>\n",
    "```\n",
    "\n",
    "The below command will install a new environment called **school_of_ai**. A prompt will ask you whether to proceed with the creation or not.\n",
    "\n",
    "```\n",
    "conda create --name school_of_ai\n",
    "```\n",
    "\n",
    "![conda create school_of_ai environment](../imgs/conda_create_school_of_ai_environment.jpg)\n",
    "\n",
    "<br/>\n",
    "\n",
    "Let's verify we can see our newly created environment via ```conda env list```:\n",
    "\n",
    "![conda list school_of_ai environment](../imgs/conda_list_school_of_ai_environment.jpg)\n",
    "\n",
    "<br/>\n",
    "\n",
    "### Activate Environment <a name=\"activate-env\"></a>\n",
    "\n",
    "We have created our environment and confirmed we can see it under the list of conda environments. We need to access it now.\n",
    "\n",
    "We access or activate an environment via ```source activate <environment_name>```:\n",
    "\n",
    "![conda activate school_of_ai environment and list conda packages](../imgs/conda_activate_school_of_ai_environment_conda_list.jpg)"
   ]
  },
  {
   "cell_type": "markdown",
   "metadata": {},
   "source": [
    "## Install Packages <a name=\"install-packages\"></a>"
   ]
  },
  {
   "cell_type": "markdown",
   "metadata": {},
   "source": [
    "## Launch Jupyter Notebook <a name=\"launch-jn\"></a>\n"
   ]
  },
  {
   "cell_type": "markdown",
   "metadata": {},
   "source": [
    "## Jupyter Notebook Exercise <a name=\"jn-exercise\"></a>"
   ]
  },
  {
   "cell_type": "markdown",
   "metadata": {},
   "source": [
    "## Tips & Tricks\n",
    "\n",
    "**List Environments**:\n",
    "\n",
    "To list your virtual environments, you can use either of the following commands:\n",
    "\n",
    "- ```conda env list```\n",
    "\n",
    "- ```conda info envs```\n",
    "\n",
    "<br/>\n",
    "\n",
    "**Activate and Deactivate Environment**:\n",
    "\n",
    "To enter/activate an environment:\n",
    "\n",
    "- ```source activate <environment_name>```\n",
    "\n",
    "To leave/deactivate an environment you are in:\n",
    "\n",
    "- ```source deactivate```\n",
    "\n",
    "<br/>\n",
    "\n",
    "**List Packages**:\n",
    "\n",
    "When you are in a virtual environment, you can list the installed conda packages via:\n",
    "\n",
    "- ```conda list```\n",
    "\n",
    "If you used pip to install a package within a conda environment, you can use:\n",
    "\n",
    "- ```pip list```"
   ]
  },
  {
   "cell_type": "markdown",
   "metadata": {},
   "source": [
    "## Resources\n",
    "- [Blog: Creating Conda Environments](https://dziganto.github.io/data%20science/python/anaconda/Creating-Conda-Environments/)\n"
   ]
  },
  {
   "cell_type": "code",
   "execution_count": null,
   "metadata": {},
   "outputs": [],
   "source": []
  }
 ],
 "metadata": {
  "kernelspec": {
   "display_name": "Python [default]",
   "language": "python",
   "name": "python3"
  },
  "language_info": {
   "codemirror_mode": {
    "name": "ipython",
    "version": 3
   },
   "file_extension": ".py",
   "mimetype": "text/x-python",
   "name": "python",
   "nbconvert_exporter": "python",
   "pygments_lexer": "ipython3",
   "version": "3.6.6"
  },
  "toc": {
   "base_numbering": 1,
   "nav_menu": {},
   "number_sections": false,
   "sideBar": true,
   "skip_h1_title": true,
   "title_cell": "Table of Contents",
   "title_sidebar": "Contents",
   "toc_cell": true,
   "toc_position": {},
   "toc_section_display": true,
   "toc_window_display": false
  }
 },
 "nbformat": 4,
 "nbformat_minor": 2
}
