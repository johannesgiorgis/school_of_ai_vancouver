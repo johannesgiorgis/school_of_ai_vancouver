{
 "cells": [
  {
   "cell_type": "markdown",
   "metadata": {},
   "source": [
    "# Introduction to Data Science Tools\n",
    "_Conda & Jupyter Notebooks_"
   ]
  },
  {
   "cell_type": "markdown",
   "metadata": {},
   "source": [
    "## Table of Contents\n",
    "- [Introduction](#intro)\n",
    "- [Install Conda](#install-conda)\n",
    "- [Create Virtual Environment](#create-env)\n",
    "- [Install Packages](#install-packages)\n",
    "- [Launch Jupyter Notebook](#launch-jn)\n",
    "- [Jupyter Notebook Exercise](#jn-exercise)"
   ]
  },
  {
   "cell_type": "markdown",
   "metadata": {},
   "source": [
    "## Introduction <a name=\"intro\"></a>\n",
    "\n",
    "Welcome to the School of AI's Introduction to Data Science Tools series. This series will serve as an introduction to the various Data Science tools and ecosystem that are at our disposal.\n",
    "\n",
    "Some examples are:\n",
    "    - conda\n",
    "    - jupyter notebooks\n",
    "    - numpy\n",
    "    - matplotlib\n",
    "    - pandas\n",
    "\n",
    "This initial workshop will focus on installing conda, setting up a virtual environment, installing jupyter notebooks and getting started with using Jupyter Notebooks\n",
    "\n",
    "\n",
    "### Conda\n",
    "[Conda](https://conda.io/docs/) is an open source cross platform package management system and environment management system. Conda allow us to set up separate environments, called virtual environments and helps us manage the necessary packages we need within each environment.\n",
    "\n",
    "\n",
    "### Jupyter Notebook\n",
    "[Jupyter Notebook](http://jupyter.org/) is an open-source web application that allows you to create and share documents that contain live code, equations, visualizations and narrative text. It is extremely useful for Data Scientists as it allows them to write down their thoughts, documentation right next to the code and its output.  It is part of Project Jupyter."
   ]
  },
  {
   "cell_type": "markdown",
   "metadata": {},
   "source": [
    "## Install Conda <a name=\"install-conda\"></a>\n",
    "First step is to install conda:\n",
    "\n",
    "1. Install [Conda](https://conda.io/docs/user-guide/install/index.html)  \n",
    "    1.1. [Windows](https://conda.io/docs/user-guide/install/windows.html)  \n",
    "    1.2. [macOS](https://conda.io/docs/user-guide/install/macos.html)  \n",
    "    1.3. [Linux](https://conda.io/docs/user-guide/install/linux.html)  \n",
    "\n",
    "### Installing on Windows\n",
    "\n",
    "1. Download the installer:  \n",
    "    - [Miniconda installer for Windows.](https://conda.io/miniconda.html)  \n",
    "    - [Anaconda installer for Windows.](https://www.anaconda.com/download/)  \n",
    "    \n",
    "2. Double-click the ```.exe``` file.  \n",
    "\n",
    "3. Follow the instructions on the screen. \n",
    "    If you are unsure about any setting, accept the defaults. You can change them later.  \n",
    "    When installation is finished, from the Start menu, open the Anaconda Prompt.  \n",
    "\n",
    "4. Test your installation:  \n",
    "    Run the command ```conda list``` from the Terminal Window or Anaconda Prompt.\n",
    "    \n",
    "### Installing on macOS\n",
    "\n",
    "1. Download the installer:\n",
    "\n",
    "    - [Miniconda installer for macOS.](https://conda.io/miniconda.html)\n",
    "    - [Anaconda installer for macOS.](https://www.anaconda.com/download/)\n",
    "2. Install:\n",
    "\n",
    "    - Miniconda — In your Terminal window, run: ```bash Miniconda3-latest-MacOSX-x86_64.sh```\n",
    "    - Anaconda — Double-click the .pkg file.\n",
    "\n",
    "3. Follow the prompts on the installer screens.\n",
    "\n",
    "    If you are unsure about any setting, accept the defaults. You can change them later.\n",
    "\n",
    "4. To make the changes take effect, close and then re-open your Terminal window.\n",
    "\n",
    "5. Test your installation:  \n",
    "    Run the command ```conda list``` from the Terminal Window or Anaconda Prompt.\n",
    "    \n",
    "    \n",
    "### Installing on Linux\n",
    "\n",
    "1. Download the installer:\n",
    "\n",
    "    - [Miniconda installer for Linux.](https://conda.io/miniconda.html) \n",
    "    - [Anaconda installer for Linux.](https://www.anaconda.com/download/)  \n",
    "\n",
    "2. In your Terminal window, run:\n",
    "\n",
    "    - Miniconda: ```bash Miniconda3-latest-Linux-x86_64.sh```\n",
    "    \n",
    "    - Anaconda: ```bash Anaconda-latest-Linux-x86_64.sh```\n",
    "3. Follow the prompts on the installer screens.\n",
    "\n",
    "    If you are unsure about any setting, accept the defaults. You can change them later.\n",
    "\n",
    "4. To make the changes take effect, close and then re-open your Terminal window.\n",
    "\n",
    "5.  Test your installation:  \n",
    "    Run the command ```conda list``` from the Terminal Window or Anaconda Prompt."
   ]
  },
  {
   "cell_type": "markdown",
   "metadata": {},
   "source": [
    "## Create a Virtual Environment <a name=\"create-env\"></a>"
   ]
  },
  {
   "cell_type": "markdown",
   "metadata": {},
   "source": [
    "## Install Packages <a name=\"install-packages\"></a>"
   ]
  },
  {
   "cell_type": "markdown",
   "metadata": {},
   "source": [
    "## Launch Jupyter Notebook <a name=\"launch-jn\"></a>"
   ]
  },
  {
   "cell_type": "markdown",
   "metadata": {},
   "source": [
    "## Jupyter Notebook Exercise <a name=\"jn-exercise\"></a>"
   ]
  },
  {
   "cell_type": "code",
   "execution_count": null,
   "metadata": {},
   "outputs": [],
   "source": []
  }
 ],
 "metadata": {
  "kernelspec": {
   "display_name": "Python [default]",
   "language": "python",
   "name": "python3"
  },
  "language_info": {
   "codemirror_mode": {
    "name": "ipython",
    "version": 3
   },
   "file_extension": ".py",
   "mimetype": "text/x-python",
   "name": "python",
   "nbconvert_exporter": "python",
   "pygments_lexer": "ipython3",
   "version": "3.6.6"
  },
  "toc": {
   "base_numbering": 1,
   "nav_menu": {},
   "number_sections": true,
   "sideBar": true,
   "skip_h1_title": false,
   "title_cell": "Table of Contents",
   "title_sidebar": "Contents",
   "toc_cell": false,
   "toc_position": {},
   "toc_section_display": true,
   "toc_window_display": false
  }
 },
 "nbformat": 4,
 "nbformat_minor": 2
}
